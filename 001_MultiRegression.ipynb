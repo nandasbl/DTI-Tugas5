{
  "nbformat": 4,
  "nbformat_minor": 0,
  "metadata": {
    "colab": {
      "name": "001_Regression",
      "provenance": []
    },
    "kernelspec": {
      "name": "python3",
      "display_name": "Python 3"
    }
  },
  "cells": [
    {
      "cell_type": "markdown",
      "metadata": {
        "id": "Up2MQL0imvLy"
      },
      "source": [
        "*Data Science Course - Telkom Digital Talent Incubator*\n",
        "\n",
        "\n",
        "---\n",
        "\n",
        "\n"
      ]
    },
    {
      "cell_type": "markdown",
      "metadata": {
        "id": "COHOuO-aicds"
      },
      "source": [
        "# **Pie Sales Prediction Using Multiple Linear Regression**\n",
        "Today we will using multiple linear regression for predict about pie sales with price and advertising price as dependent variables. Multiple linear regression is used to estimate the relationship between two or more independent variables and one dependent variable. You can use multiple linear regression when you want to know:\n",
        "\n",
        "1. How strong the relationship is between two or more independent variables and one dependent variable (e.g. how rainfall, temperature, and amount of fertilizer added affect crop growth).\n",
        "2. The value of the dependent variable at a certain value of the independent variables (e.g. the expected yield of a crop at certain levels of rainfall, temperature, and fertilizer addition).\n"
      ]
    },
    {
      "cell_type": "markdown",
      "metadata": {
        "id": "QSP92y6nj-j-"
      },
      "source": [
        "## **Multiple Linear Regression**"
      ]
    },
    {
      "cell_type": "code",
      "metadata": {
        "id": "LEoeUm5R4yVu"
      },
      "source": [
        "import pandas as pd\n",
        "import statsmodels.api as sm\n",
        "import numpy as np\n",
        "import seaborn as sns\n",
        "import matplotlib.pyplot as plt\n",
        "import warnings\n",
        "from sklearn import linear_model\n",
        "\n",
        "warnings.filterwarnings('ignore')\n",
        "plt.rcParams['figure.figsize'] = (7, 7)\n",
        "plt.style.use('ggplot')"
      ],
      "execution_count": 22,
      "outputs": []
    },
    {
      "cell_type": "code",
      "metadata": {
        "id": "azdlE-U75GBf",
        "outputId": "d58bc3ba-6827-448b-e5bd-0a4b7125821a",
        "colab": {
          "base_uri": "https://localhost:8080/",
          "height": 497
        }
      },
      "source": [
        "# Import Dataset\n",
        "df_pie = pd.read_csv('https://raw.githubusercontent.com/nandasbl/DTI-tugas5/main/dti/data/pie-sales.csv', sep =\";\")\n",
        "df_pie"
      ],
      "execution_count": 23,
      "outputs": [
        {
          "output_type": "execute_result",
          "data": {
            "text/html": [
              "<div>\n",
              "<style scoped>\n",
              "    .dataframe tbody tr th:only-of-type {\n",
              "        vertical-align: middle;\n",
              "    }\n",
              "\n",
              "    .dataframe tbody tr th {\n",
              "        vertical-align: top;\n",
              "    }\n",
              "\n",
              "    .dataframe thead th {\n",
              "        text-align: right;\n",
              "    }\n",
              "</style>\n",
              "<table border=\"1\" class=\"dataframe\">\n",
              "  <thead>\n",
              "    <tr style=\"text-align: right;\">\n",
              "      <th></th>\n",
              "      <th>week</th>\n",
              "      <th>pie_sales</th>\n",
              "      <th>price</th>\n",
              "      <th>advertising</th>\n",
              "    </tr>\n",
              "  </thead>\n",
              "  <tbody>\n",
              "    <tr>\n",
              "      <th>0</th>\n",
              "      <td>1</td>\n",
              "      <td>350</td>\n",
              "      <td>5.5</td>\n",
              "      <td>3.3</td>\n",
              "    </tr>\n",
              "    <tr>\n",
              "      <th>1</th>\n",
              "      <td>2</td>\n",
              "      <td>460</td>\n",
              "      <td>7.5</td>\n",
              "      <td>3.3</td>\n",
              "    </tr>\n",
              "    <tr>\n",
              "      <th>2</th>\n",
              "      <td>3</td>\n",
              "      <td>350</td>\n",
              "      <td>8.0</td>\n",
              "      <td>3.0</td>\n",
              "    </tr>\n",
              "    <tr>\n",
              "      <th>3</th>\n",
              "      <td>4</td>\n",
              "      <td>430</td>\n",
              "      <td>8.0</td>\n",
              "      <td>4.5</td>\n",
              "    </tr>\n",
              "    <tr>\n",
              "      <th>4</th>\n",
              "      <td>5</td>\n",
              "      <td>350</td>\n",
              "      <td>6.8</td>\n",
              "      <td>3.0</td>\n",
              "    </tr>\n",
              "    <tr>\n",
              "      <th>5</th>\n",
              "      <td>6</td>\n",
              "      <td>380</td>\n",
              "      <td>7.5</td>\n",
              "      <td>4.0</td>\n",
              "    </tr>\n",
              "    <tr>\n",
              "      <th>6</th>\n",
              "      <td>7</td>\n",
              "      <td>430</td>\n",
              "      <td>4.5</td>\n",
              "      <td>3.0</td>\n",
              "    </tr>\n",
              "    <tr>\n",
              "      <th>7</th>\n",
              "      <td>8</td>\n",
              "      <td>470</td>\n",
              "      <td>6.4</td>\n",
              "      <td>3.7</td>\n",
              "    </tr>\n",
              "    <tr>\n",
              "      <th>8</th>\n",
              "      <td>9</td>\n",
              "      <td>450</td>\n",
              "      <td>7.0</td>\n",
              "      <td>3.5</td>\n",
              "    </tr>\n",
              "    <tr>\n",
              "      <th>9</th>\n",
              "      <td>10</td>\n",
              "      <td>490</td>\n",
              "      <td>5.0</td>\n",
              "      <td>4.0</td>\n",
              "    </tr>\n",
              "    <tr>\n",
              "      <th>10</th>\n",
              "      <td>11</td>\n",
              "      <td>340</td>\n",
              "      <td>7.2</td>\n",
              "      <td>3.5</td>\n",
              "    </tr>\n",
              "    <tr>\n",
              "      <th>11</th>\n",
              "      <td>12</td>\n",
              "      <td>300</td>\n",
              "      <td>7.9</td>\n",
              "      <td>3.2</td>\n",
              "    </tr>\n",
              "    <tr>\n",
              "      <th>12</th>\n",
              "      <td>13</td>\n",
              "      <td>440</td>\n",
              "      <td>5.9</td>\n",
              "      <td>4.0</td>\n",
              "    </tr>\n",
              "    <tr>\n",
              "      <th>13</th>\n",
              "      <td>14</td>\n",
              "      <td>450</td>\n",
              "      <td>5.0</td>\n",
              "      <td>3.5</td>\n",
              "    </tr>\n",
              "    <tr>\n",
              "      <th>14</th>\n",
              "      <td>15</td>\n",
              "      <td>300</td>\n",
              "      <td>7.0</td>\n",
              "      <td>2.7</td>\n",
              "    </tr>\n",
              "  </tbody>\n",
              "</table>\n",
              "</div>"
            ],
            "text/plain": [
              "    week  pie_sales  price  advertising\n",
              "0      1        350    5.5          3.3\n",
              "1      2        460    7.5          3.3\n",
              "2      3        350    8.0          3.0\n",
              "3      4        430    8.0          4.5\n",
              "4      5        350    6.8          3.0\n",
              "5      6        380    7.5          4.0\n",
              "6      7        430    4.5          3.0\n",
              "7      8        470    6.4          3.7\n",
              "8      9        450    7.0          3.5\n",
              "9     10        490    5.0          4.0\n",
              "10    11        340    7.2          3.5\n",
              "11    12        300    7.9          3.2\n",
              "12    13        440    5.9          4.0\n",
              "13    14        450    5.0          3.5\n",
              "14    15        300    7.0          2.7"
            ]
          },
          "metadata": {
            "tags": []
          },
          "execution_count": 23
        }
      ]
    },
    {
      "cell_type": "markdown",
      "metadata": {
        "id": "LEg_uGKbsLc3"
      },
      "source": [
        "# **Descriptive Data Analysis**\n",
        "Before we start using multi-linear regression, we should take a look about correlation between variables.\n"
      ]
    },
    {
      "cell_type": "code",
      "metadata": {
        "id": "oVdXtUoqiYJQ",
        "outputId": "0ca5e697-c227-4a4e-a48d-2be3abeda868",
        "colab": {
          "base_uri": "https://localhost:8080/",
          "height": 567
        }
      },
      "source": [
        "sns.pairplot(df_pie.drop('week', axis=1))"
      ],
      "execution_count": 24,
      "outputs": [
        {
          "output_type": "execute_result",
          "data": {
            "text/plain": [
              "<seaborn.axisgrid.PairGrid at 0x7f3dd4b87630>"
            ]
          },
          "metadata": {
            "tags": []
          },
          "execution_count": 24
        },
        {
          "output_type": "display_data",
          "data": {
            "image/png": "[encoded data removed]",
            "text/plain": [
              "<Figure size 540x540 with 12 Axes>"
            ]
          },
          "metadata": {
            "tags": []
          }
        }
      ]
    },
    {
      "cell_type": "markdown",
      "metadata": {
        "id": "v44cZmVttEpu"
      },
      "source": [
        "As shown on the graph, we can see that there might be a correlations between price, advertising and pie sales. To know deeper about the correlations,let's take a look at the graph below."
      ]
    },
    {
      "cell_type": "code",
      "metadata": {
        "id": "Kgg8yHL476GP",
        "outputId": "8cde20d0-9129-400f-fda9-ded9a41251ad",
        "colab": {
          "base_uri": "https://localhost:8080/",
          "height": 387
        }
      },
      "source": [
        "# Visualize the data using scatterplot\n",
        "g = sns.PairGrid(df_pie, y_vars=[\"pie_sales\"], x_vars=[\"price\", \"advertising\"], height=5)\n",
        "g.map(sns.regplot)\n"
      ],
      "execution_count": 25,
      "outputs": [
        {
          "output_type": "execute_result",
          "data": {
            "text/plain": [
              "<seaborn.axisgrid.PairGrid at 0x7f3dd1c53f98>"
            ]
          },
          "metadata": {
            "tags": []
          },
          "execution_count": 25
        },
        {
          "output_type": "display_data",
          "data": {
            "image/png": "[encoded data removed]",
            "text/plain": [
              "<Figure size 720x360 with 2 Axes>"
            ]
          },
          "metadata": {
            "tags": []
          }
        }
      ]
    },
    {
      "cell_type": "markdown",
      "metadata": {
        "id": "-h20zv0BxGkk"
      },
      "source": [
        "the graph shows corellations between price and advertising as dependent variables with pie sales as independent variable.\n",
        "\n",
        "\n",
        "1.   We can see that price and pie_sales has a negative relationship means that variable tend to move in the opposite direction. If price increase then sales will decrease and vice versa.\n",
        "2.   In the graph adversiting and pie_sales, the correlation between variables has a positive relationship means that variable tend to move in the same direction. If advertising increase the pie sales will increase.\n",
        "\n"
      ]
    },
    {
      "cell_type": "markdown",
      "metadata": {
        "id": "iVvGlw106ukZ"
      },
      "source": [
        "### **Regression using Sklearn**"
      ]
    },
    {
      "cell_type": "markdown",
      "metadata": {
        "id": "W7FjC-YJ0Wj1"
      },
      "source": [
        ""
      ]
    },
    {
      "cell_type": "code",
      "metadata": {
        "id": "-v0gXxZE5JvW"
      },
      "source": [
        "# Set independent and dependent variables\n",
        "X = df_pie[['price','advertising']]\n",
        "Y = df_pie['pie_sales']"
      ],
      "execution_count": 26,
      "outputs": []
    },
    {
      "cell_type": "code",
      "metadata": {
        "id": "Ig8RbR8q6uGP",
        "outputId": "644bc6e5-e866-4c4e-b503-bfcd863865d3",
        "colab": {
          "base_uri": "https://localhost:8080/",
          "height": 197
        }
      },
      "source": [
        "X.head()"
      ],
      "execution_count": 27,
      "outputs": [
        {
          "output_type": "execute_result",
          "data": {
            "text/html": [
              "<div>\n",
              "<style scoped>\n",
              "    .dataframe tbody tr th:only-of-type {\n",
              "        vertical-align: middle;\n",
              "    }\n",
              "\n",
              "    .dataframe tbody tr th {\n",
              "        vertical-align: top;\n",
              "    }\n",
              "\n",
              "    .dataframe thead th {\n",
              "        text-align: right;\n",
              "    }\n",
              "</style>\n",
              "<table border=\"1\" class=\"dataframe\">\n",
              "  <thead>\n",
              "    <tr style=\"text-align: right;\">\n",
              "      <th></th>\n",
              "      <th>price</th>\n",
              "      <th>advertising</th>\n",
              "    </tr>\n",
              "  </thead>\n",
              "  <tbody>\n",
              "    <tr>\n",
              "      <th>0</th>\n",
              "      <td>5.5</td>\n",
              "      <td>3.3</td>\n",
              "    </tr>\n",
              "    <tr>\n",
              "      <th>1</th>\n",
              "      <td>7.5</td>\n",
              "      <td>3.3</td>\n",
              "    </tr>\n",
              "    <tr>\n",
              "      <th>2</th>\n",
              "      <td>8.0</td>\n",
              "      <td>3.0</td>\n",
              "    </tr>\n",
              "    <tr>\n",
              "      <th>3</th>\n",
              "      <td>8.0</td>\n",
              "      <td>4.5</td>\n",
              "    </tr>\n",
              "    <tr>\n",
              "      <th>4</th>\n",
              "      <td>6.8</td>\n",
              "      <td>3.0</td>\n",
              "    </tr>\n",
              "  </tbody>\n",
              "</table>\n",
              "</div>"
            ],
            "text/plain": [
              "   price  advertising\n",
              "0    5.5          3.3\n",
              "1    7.5          3.3\n",
              "2    8.0          3.0\n",
              "3    8.0          4.5\n",
              "4    6.8          3.0"
            ]
          },
          "metadata": {
            "tags": []
          },
          "execution_count": 27
        }
      ]
    },
    {
      "cell_type": "code",
      "metadata": {
        "id": "80I1J_-GjSaY",
        "outputId": "339995f6-1c35-4270-efb7-9805cf43b70a",
        "colab": {
          "base_uri": "https://localhost:8080/",
          "height": 123
        }
      },
      "source": [
        "Y.head()"
      ],
      "execution_count": 28,
      "outputs": [
        {
          "output_type": "execute_result",
          "data": {
            "text/plain": [
              "0    350\n",
              "1    460\n",
              "2    350\n",
              "3    430\n",
              "4    350\n",
              "Name: pie_sales, dtype: int64"
            ]
          },
          "metadata": {
            "tags": []
          },
          "execution_count": 28
        }
      ]
    },
    {
      "cell_type": "code",
      "metadata": {
        "id": "lFcwDS_u66vg",
        "outputId": "72647345-5865-49e4-903a-6eff05121686",
        "colab": {
          "base_uri": "https://localhost:8080/",
          "height": 34
        }
      },
      "source": [
        "from sklearn.linear_model import LinearRegression\n",
        "regr = LinearRegression()\n",
        "regr.fit(X, Y)"
      ],
      "execution_count": 29,
      "outputs": [
        {
          "output_type": "execute_result",
          "data": {
            "text/plain": [
              "LinearRegression(copy_X=True, fit_intercept=True, n_jobs=None, normalize=False)"
            ]
          },
          "metadata": {
            "tags": []
          },
          "execution_count": 29
        }
      ]
    },
    {
      "cell_type": "code",
      "metadata": {
        "id": "-viSqOw_jmzA",
        "outputId": "4ca65637-c06a-46e4-efcd-322cd8a064ca",
        "colab": {
          "base_uri": "https://localhost:8080/",
          "height": 143
        }
      },
      "source": [
        "#Checking intercept and coeffecient in price and advertising\n",
        "print('Intercept: ', regr.intercept_, '\\n')\n",
        "coeffecients = pd.DataFrame(regr.coef_,X.columns)\n",
        "coeffecients.columns = ['Coeffecient']\n",
        "coeffecients"
      ],
      "execution_count": 30,
      "outputs": [
        {
          "output_type": "stream",
          "text": [
            "Intercept:  306.5261932837436 \n",
            "\n"
          ],
          "name": "stdout"
        },
        {
          "output_type": "execute_result",
          "data": {
            "text/html": [
              "<div>\n",
              "<style scoped>\n",
              "    .dataframe tbody tr th:only-of-type {\n",
              "        vertical-align: middle;\n",
              "    }\n",
              "\n",
              "    .dataframe tbody tr th {\n",
              "        vertical-align: top;\n",
              "    }\n",
              "\n",
              "    .dataframe thead th {\n",
              "        text-align: right;\n",
              "    }\n",
              "</style>\n",
              "<table border=\"1\" class=\"dataframe\">\n",
              "  <thead>\n",
              "    <tr style=\"text-align: right;\">\n",
              "      <th></th>\n",
              "      <th>Coeffecient</th>\n",
              "    </tr>\n",
              "  </thead>\n",
              "  <tbody>\n",
              "    <tr>\n",
              "      <th>price</th>\n",
              "      <td>-24.975090</td>\n",
              "    </tr>\n",
              "    <tr>\n",
              "      <th>advertising</th>\n",
              "      <td>74.130957</td>\n",
              "    </tr>\n",
              "  </tbody>\n",
              "</table>\n",
              "</div>"
            ],
            "text/plain": [
              "             Coeffecient\n",
              "price         -24.975090\n",
              "advertising    74.130957"
            ]
          },
          "metadata": {
            "tags": []
          },
          "execution_count": 30
        }
      ]
    },
    {
      "cell_type": "markdown",
      "metadata": {
        "id": "tziAXjao1Ii2"
      },
      "source": [
        "The model above will make linear regression model:\n",
        "y=b0 + b1x1 + b2X2\n",
        "\n",
        "---\n",
        "\n",
        "\n",
        "y= 306.526 - 24.975 + 74.130\n"
      ]
    },
    {
      "cell_type": "markdown",
      "metadata": {
        "id": "fRrgSu8LN6Rr"
      },
      "source": [
        "#**Model Prediction**\n"
      ]
    },
    {
      "cell_type": "code",
      "metadata": {
        "id": "yXj0QUQAPW2p",
        "outputId": "a3844169-e4cf-428f-bf7f-04e1697c8ab5",
        "colab": {
          "base_uri": "https://localhost:8080/",
          "height": 34
        }
      },
      "source": [
        "X['price'].mean()"
      ],
      "execution_count": 31,
      "outputs": [
        {
          "output_type": "execute_result",
          "data": {
            "text/plain": [
              "6.613333333333333"
            ]
          },
          "metadata": {
            "tags": []
          },
          "execution_count": 31
        }
      ]
    },
    {
      "cell_type": "code",
      "metadata": {
        "id": "4z47SKNo22om",
        "outputId": "a3c706a1-1b09-47e5-b92a-2f9d0026b7d6",
        "colab": {
          "base_uri": "https://localhost:8080/",
          "height": 34
        }
      },
      "source": [
        "X['advertising'].mean()"
      ],
      "execution_count": 32,
      "outputs": [
        {
          "output_type": "execute_result",
          "data": {
            "text/plain": [
              "3.48"
            ]
          },
          "metadata": {
            "tags": []
          },
          "execution_count": 32
        }
      ]
    },
    {
      "cell_type": "code",
      "metadata": {
        "id": "4PlkMvqnZvlY"
      },
      "source": [
        ""
      ],
      "execution_count": null,
      "outputs": []
    },
    {
      "cell_type": "markdown",
      "metadata": {
        "id": "_AQT8GJx7wmp"
      },
      "source": [
        "### **Regression using Statsmodels**"
      ]
    },
    {
      "cell_type": "code",
      "metadata": {
        "id": "6lyeM3ad5iAC"
      },
      "source": [
        "X = sm.add_constant(X) # adding a constant"
      ],
      "execution_count": 33,
      "outputs": []
    },
    {
      "cell_type": "code",
      "metadata": {
        "id": "MO49lxhi5gzH",
        "outputId": "8de90caa-e2b9-4509-e618-649d5b1bfff8",
        "colab": {
          "base_uri": "https://localhost:8080/",
          "height": 478
        }
      },
      "source": [
        "model = sm.OLS(Y, X).fit()\n",
        "predictions = model.predict(X) \n",
        "\n",
        "olsmodel = sm.OLS(df_pie['pie_sales'], X).fit()\n",
        "print(olsmodel.summary())"
      ],
      "execution_count": 34,
      "outputs": [
        {
          "output_type": "stream",
          "text": [
            "                            OLS Regression Results                            \n",
            "==============================================================================\n",
            "Dep. Variable:              pie_sales   R-squared:                       0.521\n",
            "Model:                            OLS   Adj. R-squared:                  0.442\n",
            "Method:                 Least Squares   F-statistic:                     6.539\n",
            "Date:                Fri, 23 Oct 2020   Prob (F-statistic):             0.0120\n",
            "Time:                        12:00:44   Log-Likelihood:                -77.510\n",
            "No. Observations:                  15   AIC:                             161.0\n",
            "Df Residuals:                      12   BIC:                             163.1\n",
            "Df Model:                           2                                         \n",
            "Covariance Type:            nonrobust                                         \n",
            "===============================================================================\n",
            "                  coef    std err          t      P>|t|      [0.025      0.975]\n",
            "-------------------------------------------------------------------------------\n",
            "const         306.5262    114.254      2.683      0.020      57.588     555.464\n",
            "price         -24.9751     10.832     -2.306      0.040     -48.576      -1.374\n",
            "advertising    74.1310     25.967      2.855      0.014      17.553     130.709\n",
            "==============================================================================\n",
            "Omnibus:                        1.505   Durbin-Watson:                   1.683\n",
            "Prob(Omnibus):                  0.471   Jarque-Bera (JB):                0.937\n",
            "Skew:                           0.595   Prob(JB):                        0.626\n",
            "Kurtosis:                       2.709   Cond. No.                         72.2\n",
            "==============================================================================\n",
            "\n",
            "Warnings:\n",
            "[1] Standard Errors assume that the covariance matrix of the errors is correctly specified.\n"
          ],
          "name": "stdout"
        }
      ]
    },
    {
      "cell_type": "markdown",
      "metadata": {
        "id": "83IuqL-5q1hg"
      },
      "source": [
        "#**Autocorellation with Durbin Watson**"
      ]
    },
    {
      "cell_type": "markdown",
      "metadata": {
        "id": "HA5tNaSNaW_v"
      },
      "source": [
        "The Durbin Watson Test is a measure of autocorrelation (also called serial correlation) in residuals from regression analysis. Autocorrelation is the similarity of a time series over successive time intervals. It can lead to underestimates of the standard error and can cause you to think predictors are significant when they are not."
      ]
    },
    {
      "cell_type": "code",
      "metadata": {
        "id": "xLOA1C39q2X9",
        "outputId": "341c9bcb-1ceb-4134-df73-c26a62b50461",
        "colab": {
          "base_uri": "https://localhost:8080/",
          "height": 34
        }
      },
      "source": [
        "from statsmodels.stats.stattools import durbin_watson\n",
        "\n",
        "#perform Durbin-Watson test\n",
        "durbin_watson(model.resid)"
      ],
      "execution_count": 35,
      "outputs": [
        {
          "output_type": "execute_result",
          "data": {
            "text/plain": [
              "1.6831203020921253"
            ]
          },
          "metadata": {
            "tags": []
          },
          "execution_count": 35
        }
      ]
    },
    {
      "cell_type": "markdown",
      "metadata": {
        "id": "F7UKB-nZsGiz"
      },
      "source": [
        "If we choose  α = 0.05 then the model gives the critical values corresponding to n = 15 and two regressor as dL = 0.95 and dU = 1.54\n",
        "\n",
        "4-dU=2.4568\n",
        "\n",
        "4-dL=3.0545\n",
        "\n",
        "D > dU and D < 4-dU\n",
        "\n",
        "Then H0 is true\n",
        "\n",
        "There's no autocorellation in the data\n",
        "\n"
      ]
    },
    {
      "cell_type": "markdown",
      "metadata": {
        "id": "K8CUXXaYMtTg"
      },
      "source": [
        "# **Accuracy Assestment**\n"
      ]
    },
    {
      "cell_type": "markdown",
      "metadata": {
        "id": "jg9ge6em39ga"
      },
      "source": [
        "#**R-square**"
      ]
    },
    {
      "cell_type": "code",
      "metadata": {
        "id": "pPATHRitNDx1",
        "outputId": "7380cb78-2c59-4d14-939e-fb518c230030",
        "colab": {
          "base_uri": "https://localhost:8080/",
          "height": 34
        }
      },
      "source": [
        "print('R2 score:', olsmodel.rsquared)"
      ],
      "execution_count": 36,
      "outputs": [
        {
          "output_type": "stream",
          "text": [
            "R2 score: 0.5214779360292285\n"
          ],
          "name": "stdout"
        }
      ]
    },
    {
      "cell_type": "markdown",
      "metadata": {
        "id": "w3cvOpehs9ig"
      },
      "source": [
        "R-squared is always between 0 and 100%:\n",
        "\n",
        "1. 0% represents a model that does not explain any of the variation in the response variable around its mean. The mean of the dependent variable predicts the dependent variable as well as the regression model.\n",
        "2. 100% represents a model that explains all of the variation in the response variable around its mean.\n",
        "\n",
        "In our case we got R-squared score 52.1% which mean price and advertising affect price sales 52.1% and others are influenced by other attributes."
      ]
    },
    {
      "cell_type": "markdown",
      "metadata": {
        "id": "m69Dt_XlWtFN"
      },
      "source": [
        "Mean Absolute Error (MAE) is a measure of errors between paired observations expressing the same phenomenon.\n",
        "\n",
        "Mean Squared Error (MSE) is a measures the average of the squares of the errors—that is, the average squared difference between the estimated values and the actual value.\n",
        "\n",
        "Root Mean Squared Error is a frequently used measure of the differences between values (sample or population values) predicted by a model or an estimator and the values observed."
      ]
    },
    {
      "cell_type": "code",
      "metadata": {
        "id": "RayDnKOBVglv"
      },
      "source": [
        "from sklearn import metrics"
      ],
      "execution_count": 40,
      "outputs": []
    },
    {
      "cell_type": "code",
      "metadata": {
        "id": "wNzTJvC3VfVy",
        "outputId": "2a0d0052-bc8b-49f6-b557-95ee9833b894",
        "colab": {
          "base_uri": "https://localhost:8080/",
          "height": 70
        }
      },
      "source": [
        "print('Mean Absolute Error:', metrics.mean_absolute_error(Y, predictions))  \n",
        "print('Mean Squared Error:', metrics.mean_squared_error(Y, predictions))  \n",
        "print('Root Mean Squared Error:', np.sqrt(metrics.mean_squared_error(Y, predictions)))"
      ],
      "execution_count": 41,
      "outputs": [
        {
          "output_type": "stream",
          "text": [
            "Mean Absolute Error: 34.54567364769344\n",
            "Mean Squared Error: 1802.220431150363\n",
            "Root Mean Squared Error: 42.452566838182626\n"
          ],
          "name": "stdout"
        }
      ]
    },
    {
      "cell_type": "markdown",
      "metadata": {
        "id": "AcZvLdORf1im"
      },
      "source": [
        "#**F test**\n",
        "H0 = there is a autocorrelation\n",
        "\n",
        "H1 = there is no autocorrelation\n",
        "\n",
        "We are going to calculate F-test using F-statistic=  6.539\n",
        "\n",
        "df1=k-1= 2\n",
        "\n",
        "df2= n-k = 15-3=12\n",
        "\n",
        "Based on F tabel we know that F tabel is 3,68\n",
        "\n",
        "Fstatistic > F means that pie_sales is significantly affected by price and advertising."
      ]
    },
    {
      "cell_type": "markdown",
      "metadata": {
        "id": "RHLrdDss3lOh"
      },
      "source": [
        "#**T-Test**\n",
        "\n",
        "**Price:**\n",
        "\n",
        "Significant: $\\alpha$ = 5% atau 0.05.\n",
        "t= -2.306 df= 12 with alpha= 5%/2= 2.5% (two-tail test)\n",
        "\n",
        " based on T table T= 2.17881\n",
        "\n",
        "**Advertising:**\n",
        "\n",
        " Significant:  α  = 5% atau 0.05. t= 2.885 df= 12 with alpha= 5%/2= 2.5% (two-tail test)\n",
        "\n",
        "based on T table T= 2.17881\n",
        "\n",
        "\n",
        "\n"
      ]
    },
    {
      "cell_type": "markdown",
      "metadata": {
        "id": "vh62AOJJkGJg"
      },
      "source": [
        "#**Assumption Testing**\n"
      ]
    },
    {
      "cell_type": "markdown",
      "metadata": {
        "id": "Cd6C-SCVkM6d"
      },
      "source": [
        "**1. Multicorallity**"
      ]
    },
    {
      "cell_type": "code",
      "metadata": {
        "id": "arNkyQk3kSDz",
        "outputId": "27ddf1f9-49d1-4884-8b2a-d435ba06e1d9",
        "colab": {
          "base_uri": "https://localhost:8080/",
          "height": 451
        }
      },
      "source": [
        "sns.heatmap(df_pie.corr(), annot=True)"
      ],
      "execution_count": 37,
      "outputs": [
        {
          "output_type": "execute_result",
          "data": {
            "text/plain": [
              "<matplotlib.axes._subplots.AxesSubplot at 0x7f3dd49aba90>"
            ]
          },
          "metadata": {
            "tags": []
          },
          "execution_count": 37
        },
        {
          "output_type": "display_data",
          "data": {
            "image/png": "[encoded data removed]",
            "text/plain": [
              "<Figure size 504x504 with 2 Axes>"
            ]
          },
          "metadata": {
            "tags": []
          }
        }
      ]
    },
    {
      "cell_type": "markdown",
      "metadata": {
        "id": "fqKIueQIkhJ-"
      },
      "source": [
        "**2. Linearity**"
      ]
    },
    {
      "cell_type": "code",
      "metadata": {
        "id": "lPwlNSWDNH-R",
        "outputId": "873e7ee4-fae9-41b9-e580-f4a4345e8a25",
        "colab": {
          "base_uri": "https://localhost:8080/",
          "height": 427
        }
      },
      "source": [
        "plt.scatter(Y, predictions)\n",
        "plt.plot(color='darkorange')\n",
        "plt.show()\n"
      ],
      "execution_count": 45,
      "outputs": [
        {
          "output_type": "display_data",
          "data": {
            "image/png": "[encoded data removed]",
            "text/plain": [
              "<Figure size 504x504 with 1 Axes>"
            ]
          },
          "metadata": {
            "tags": []
          }
        }
      ]
    },
    {
      "cell_type": "markdown",
      "metadata": {
        "id": "vB-sJg6E6ugz"
      },
      "source": [
        "Graph below shows that there's a correlation between indepdent and dependent variables"
      ]
    },
    {
      "cell_type": "markdown",
      "metadata": {
        "id": "Ph84AvQokl-e"
      },
      "source": [
        "3. Normality"
      ]
    },
    {
      "cell_type": "code",
      "metadata": {
        "id": "o5xes8xLkwJi",
        "outputId": "30d8753a-16d6-4a2f-ee0f-b8384cff014a",
        "colab": {
          "base_uri": "https://localhost:8080/",
          "height": 427
        }
      },
      "source": [
        "sns.distplot((Y-predictions));"
      ],
      "execution_count": 39,
      "outputs": [
        {
          "output_type": "display_data",
          "data": {
            "image/png": "[encoded data removed]",
            "text/plain": [
              "<Figure size 504x504 with 1 Axes>"
            ]
          },
          "metadata": {
            "tags": []
          }
        }
      ]
    },
    {
      "cell_type": "markdown",
      "metadata": {
        "id": "yFDErtpaXgWE"
      },
      "source": [
        "#**Summary**\n",
        "\n"
      ]
    },
    {
      "cell_type": "markdown",
      "metadata": {
        "id": "ec0bU9D4632-"
      },
      "source": [
        "We can cleary see that the model running well with MAE= 34.54, MSE= 1802.2 and RMSE= 42.45 and R-square= 0.52. But we can't depend on these two attributs for the succession of pie sales because there's 48% with unknown attributs may be the determinant of pie sales. "
      ]
    }
  ]
}